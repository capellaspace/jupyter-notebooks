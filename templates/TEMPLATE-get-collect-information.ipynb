{
 "cells": [
  {
   "cell_type": "markdown",
   "id": "bbdd6c64-f33f-404a-9d6e-7320d91ad059",
   "metadata": {
    "tags": []
   },
   "source": [
    "# Access Collect Information\n",
    "This notebook can be used to access information about scheduled or completed collects.\n",
    "\n",
    "The cells that require the user to input parameters prior to running are marked with `USER INPUT REQUIRED` in the header. Searching for `USER` in the notebook will also identify where the user must enter inputs.\n",
    "\n",
    "* **Author:** [Hayley Pippin](mailto:hayley.pippin@capellaspace.com)\n",
    "* **Last updated:** August 9, 2024\n",
    "* **Required input(s):**\n",
    "    * `credentials.json`: JSON containing the user's Capella Console credentials.\n",
    "    * Collect ID or Tasking Request ID\n",
    "* **Output(s):**\n",
    "    * NA"
   ]
  },
  {
   "cell_type": "markdown",
   "id": "caa67cdd-e245-4462-b1cd-daff983b2bfb",
   "metadata": {
    "tags": []
   },
   "source": [
    "## Setup\n"
   ]
  },
  {
   "cell_type": "markdown",
   "id": "7f155b89-a4b0-4385-acd9-9f1263f37ba1",
   "metadata": {},
   "source": [
    "### `credentials.json`\n",
    "Your username and password must be saved in a `.json` file named `credentials.json` and formatted as follows:\n",
    "```\n",
    "{\"username\": \"yourusername\",\"password\": \"xxxxxxxxx\"}\n",
    "```"
   ]
  },
  {
   "cell_type": "markdown",
   "id": "4d06cc36-e610-4111-b8c4-3eea2154f553",
   "metadata": {},
   "source": [
    "### Install packages\n",
    "The following cell **only needs to be run once** if packages are not already installed. Uncomment any of the following lines to install the necessary packages."
   ]
  },
  {
   "cell_type": "code",
   "execution_count": null,
   "id": "b50667f5-138b-4cb2-b90c-9306e768f6d8",
   "metadata": {},
   "outputs": [],
   "source": [
    "#!pip install requests\n",
    "#!pip install json\n",
    "#!pip install pandas"
   ]
  },
  {
   "cell_type": "markdown",
   "id": "3e83f90a-2be8-4195-b384-85def1239405",
   "metadata": {},
   "source": [
    "### Import packages and define helper functions\n"
   ]
  },
  {
   "cell_type": "code",
   "execution_count": 1,
   "id": "3ffad76a-0ad0-4d80-93c5-92450cf21cde",
   "metadata": {
    "tags": []
   },
   "outputs": [],
   "source": [
    "import requests\n",
    "import json\n",
    "\n",
    "# Helper function to printformatted JSON using the json module\n",
    "def p(data):\n",
    "    print(json.dumps(data, indent=2))"
   ]
  },
  {
   "cell_type": "markdown",
   "id": "253ae38f-ad35-4ec6-baf6-4bb4c5ecde6e",
   "metadata": {},
   "source": [
    "### Authentication (INITIAL USER INPUT REQUIRED)\n",
    "This cell needs to be run hourly to re-authenticate with the Capella system."
   ]
  },
  {
   "cell_type": "code",
   "execution_count": null,
   "id": "f26cb84a-ef6d-4524-8f12-23f403c83a6f",
   "metadata": {
    "tags": []
   },
   "outputs": [],
   "source": [
    "# Load username and password\n",
    "with open('WRITE PATH TO CREDENTIALS FILE HERE') as f: # USER: Input path to credentials.json file.\n",
    "    data = json.load(f)\n",
    "    username = data['username']\n",
    "    password = data['password']\n",
    "\n",
    "# Get a valid token from the auth service\n",
    "r = requests.post(\"https://api.capellaspace.com/token\", \n",
    "                  headers = {'Content-Type': 'application/x-www-form-urlencoded'}, auth=(username,password))\n",
    "access_token = r.json()[\"accessToken\"]\n",
    "# p(accessToken)\n",
    "\n",
    "# GET user ID and org ID\n",
    "headers = {'Authorization':'Bearer ' + access_token}\n",
    "r = requests.get(\"https://api.capellaspace.com/user\", headers=headers)\n",
    "user_id = r.json()[\"id\"]\n",
    "org_id = r.json()[\"organizationId\"]\n",
    "#p(r.json())\n",
    "\n",
    "# Print user ID, org ID, and current environment\n",
    "print('User email: ', r.json()['email'], '\\nOrganization: ', r.json()['organization']['name'], '\\nEnvironment: ', r.json()['apiEnvironmentRole'])"
   ]
  },
  {
   "cell_type": "markdown",
   "id": "f51bd59e-8ba3-42eb-aeb5-068fe8866291",
   "metadata": {
    "tags": []
   },
   "source": [
    "## Get Collect Information\n",
    "Once a task has reached `Accepted` status, you can use either of the following endpoints to extract information about the upcoming or acquired collect."
   ]
  },
  {
   "cell_type": "markdown",
   "id": "e170fd70-70bc-4764-9dc9-5ad4a4b384f4",
   "metadata": {
    "tags": []
   },
   "source": [
    "#### Search for collects associated with a tasking request (USER INPUT REQUIRED)"
   ]
  },
  {
   "cell_type": "code",
   "execution_count": null,
   "id": "376d829e-df45-4682-9317-4ec7f12f9e42",
   "metadata": {
    "tags": []
   },
   "outputs": [],
   "source": [
    "tr_id = \"INPUT TASKING ID HERE\" # USER: Input tasking request ID\n",
    "\n",
    "r = requests.get(\"https://api.capellaspace.com/collects/list/\" + tr_id, headers=headers)\n",
    "\n",
    "p(r.json())\n",
    "# p(r.json()[0]['windowOpen']) # Prints the start of the image acquisition"
   ]
  },
  {
   "cell_type": "markdown",
   "id": "675a394a-3672-4f4a-9302-9557aae5d721",
   "metadata": {},
   "source": [
    "#### `GET` information about a collect using collect ID (USER INPUT REQUIRED)"
   ]
  },
  {
   "cell_type": "code",
   "execution_count": null,
   "id": "6672ee86-41ce-4168-8d00-558d24985f81",
   "metadata": {
    "tags": []
   },
   "outputs": [],
   "source": [
    "c_id = \"INPUT COLLECT ID HERE\" # USER: Input collect ID\n",
    "\n",
    "r = requests.get(\"https://api.capellaspace.com/collects/\" + c_id, headers=headers)\n",
    "\n",
    "p(r.json())"
   ]
  }
 ],
 "metadata": {
  "kernelspec": {
   "display_name": "Python 3 (ipykernel)",
   "language": "python",
   "name": "python3"
  },
  "language_info": {
   "codemirror_mode": {
    "name": "ipython",
    "version": 3
   },
   "file_extension": ".py",
   "mimetype": "text/x-python",
   "name": "python",
   "nbconvert_exporter": "python",
   "pygments_lexer": "ipython3",
   "version": "3.10.9"
  }
 },
 "nbformat": 4,
 "nbformat_minor": 5
}

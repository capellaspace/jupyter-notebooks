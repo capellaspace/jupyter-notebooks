{
 "cells": [
  {
   "cell_type": "markdown",
   "id": "bbdd6c64-f33f-404a-9d6e-7320d91ad059",
   "metadata": {
    "tags": []
   },
   "source": [
    "# Tasking Requests (TEMPLATE)\n",
    "This script is a template for placing, reviewing, approving, and checking the status of tasking requests for a single-point or single-polygon AOI based on a set of defined constraints. \n",
    "\n",
    "The cells that require the user to input parameters prior to running are marked with `USER INPUT REQUIRED` in the header. Searching for `USER` in the notebook will also identify where the user must enter inputs.\n",
    "\n",
    "* **Author:** Hayley Pippin\n",
    "* **Last updated:** August 9, 2024\n",
    "* **Required input(s):**\n",
    "    * `credentials.json`: JSON containing the user's Capella Console credentials.\n",
    "    * `JSON` or `GEOJSON` single-point or single-polygon file\n",
    "* **Output(s):**\n",
    "    * NA"
   ]
  },
  {
   "cell_type": "markdown",
   "id": "caa67cdd-e245-4462-b1cd-daff983b2bfb",
   "metadata": {
    "tags": []
   },
   "source": [
    "## Setup\n",
    "Unless otherwise noted, these cells must be run every time you use this script. "
   ]
  },
  {
   "cell_type": "markdown",
   "id": "4d06cc36-e610-4111-b8c4-3eea2154f553",
   "metadata": {},
   "source": [
    "### Install packages\n",
    "The following cell **only needs to be run once** if packages are not already installed. Uncomment any of the following lines to install the necessary packages."
   ]
  },
  {
   "cell_type": "code",
   "execution_count": null,
   "id": "b50667f5-138b-4cb2-b90c-9306e768f6d8",
   "metadata": {},
   "outputs": [],
   "source": [
    "#!pip install requests\n",
    "#!pip install json\n",
    "#!pip install pandas"
   ]
  },
  {
   "cell_type": "markdown",
   "id": "3e83f90a-2be8-4195-b384-85def1239405",
   "metadata": {},
   "source": [
    "### Import packages and define helper functions"
   ]
  },
  {
   "cell_type": "code",
   "execution_count": null,
   "id": "3ffad76a-0ad0-4d80-93c5-92450cf21cde",
   "metadata": {
    "tags": []
   },
   "outputs": [],
   "source": [
    "import requests\n",
    "import json\n",
    "import csv\n",
    "import os\n",
    "import datetime\n",
    "import pandas as pd\n",
    "\n",
    "# Helper function to print formatted JSON using the json module\n",
    "def p(data):\n",
    "    print(json.dumps(data, indent=2))"
   ]
  },
  {
   "cell_type": "markdown",
   "id": "253ae38f-ad35-4ec6-baf6-4bb4c5ecde6e",
   "metadata": {},
   "source": [
    "### Authentication (USER INPUT REQUIRED)\n",
    "This cell needs to be run hourly to re-authenticate with the Capella system."
   ]
  },
  {
   "cell_type": "code",
   "execution_count": null,
   "id": "f26cb84a-ef6d-4524-8f12-23f403c83a6f",
   "metadata": {
    "tags": []
   },
   "outputs": [],
   "source": [
    "# Load username and password\n",
    "with open('WRITE PATH HERE') as f: # USER: Input path to credentials.json file.\n",
    "    data = json.load(f)\n",
    "    username = data['username']\n",
    "    password = data['password']\n",
    "\n",
    "# Get a valid token from the auth service\n",
    "r = requests.post(\"https://api.capellaspace.com/token\", \n",
    "                  headers = {'Content-Type': 'application/x-www-form-urlencoded'}, auth=(username,password))\n",
    "access_token = r.json()[\"accessToken\"]\n",
    "# p(accessToken)\n",
    "\n",
    "# GET user ID and org ID\n",
    "headers = {'Authorization':'Bearer ' + access_token}\n",
    "r = requests.get(\"https://api.capellaspace.com/user\", headers=headers)\n",
    "user_id = r.json()[\"id\"]\n",
    "org_id = r.json()[\"organizationId\"]\n",
    "#p(r.json())\n",
    "\n",
    "# Print user and org ID\n",
    "print('User email: ', r.json()['email'], '\\nOrganization: ', r.json()['organization']['name'], '\\nEnvironment: ', r.json()['apiEnvironmentRole'])"
   ]
  },
  {
   "cell_type": "markdown",
   "id": "f51bd59e-8ba3-42eb-aeb5-068fe8866291",
   "metadata": {
    "tags": []
   },
   "source": [
    "## Submit Tasking Request"
   ]
  },
  {
   "cell_type": "markdown",
   "id": "e170fd70-70bc-4764-9dc9-5ad4a4b384f4",
   "metadata": {
    "tags": []
   },
   "source": [
    "### Define tasking request input parameters (USER INPUT REQUIRED)"
   ]
  },
  {
   "cell_type": "code",
   "execution_count": null,
   "id": "8fa2558e-e3fa-40e4-8466-d8afdaa5522e",
   "metadata": {
    "tags": []
   },
   "outputs": [],
   "source": [
    "# Set AOI (must be SINGLE POINT or SINGLE POLYGON in JSON or GEOJSON format)\n",
    "aoi_path = \"WRITE PATH HERE\" # USER: Input path to AOI.\n",
    "aoi = json.load(open(aoi_path))\n",
    "aoi_geom = aoi['features'][0]['geometry'] # Get the geometry of the AOI\n",
    "\n",
    "# Name and description\n",
    "request_name = '' # USER: Set the name of the request.\n",
    "request_description = '' # USER: Set a description for the request.\n",
    "\n",
    "# Tasking request window\n",
    "# Default: 14-day window starting at current UTC date/time\n",
    "start_date = datetime.datetime.utcnow()\n",
    "end_date = start_date + datetime.timedelta(days = 14)\n",
    "# USER: To change the window from the default, uncomment and set the start_date and end_date for your desired window in UTC in YYYY,M,D format.\n",
    "#       Tasking request window must be at least 1 day in length, and may not be fewer days in length than the tier specified below.\n",
    "# start_date = datetime.date(YYYY,M,D)\n",
    "# end_date = datetime.date(YYYY,M,D)\n",
    "window_open = start_date.strftime(\"%Y-%m-%dT%H:%M:%SZ\") # Format start date\n",
    "window_close = end_date.strftime(\"%Y-%m-%dT%H:%M:%SZ\") # Format end date\n",
    "\n",
    "# Collection tier\n",
    "# USER: Set the prioritization of your task (NOTE: NOT the same as the tasking request window length.)\n",
    "tier = \"flexible\" # options: urgent, priority, standard, flexible\n",
    "\n",
    "# Imaging mode and footprint size\n",
    "# USER: Set the desired imaging mode and image footprint. Ensure the img_length and img_width fit the guidelines listed below.\n",
    "# Footprint size guidelines:\n",
    "# - Spotlight: length = 5000, width = 5000\n",
    "# - Sliding Spotlight: length = 10000, width = 5000\n",
    "# - Stripmap: length = 20000, width = 5000-10000\n",
    "img_mode = \"stripmap\" # Options: spotlight, sliding_spotlight, stripmap\n",
    "img_length = 20000 # in meters\n",
    "img_width = 5000 # in meters\n",
    "\n",
    "# Product category and look angle range\n",
    "# USER: Select category and look angle range. Ensure the look angle min and max fit the guidelines listed below.\n",
    "# Product category/look angle guidelines:\n",
    "# - Standard: min = 25, max = 50\n",
    "# - Extended: min = 15, max = 50\n",
    "# - Custom: min >= 5, max <= 50\n",
    "product_cat = \"extended\" # Options: standard, extended, custom\n",
    "look_angle_min = 15 # Full: 5, Extended: 15, Standard: 25\n",
    "look_angle_max = 50 # Max: 50\n",
    "\n",
    "# Configuration constraints\n",
    "# Default: Any configuration.\n",
    "# USER: Choose from the available options to limit the possible configuration(s) your image could be collected as, or leave as default.\n",
    "orbital_plane = [45, 53, 97] # Options: 45, 53, 97\n",
    "orbit_state = \"either\" # Options: ascending, descending, either\n",
    "look_direction = \"either\" # Options: left, right, either\n",
    "\n",
    "# Pre-approval\n",
    "# USER: Set to \"false\" if you NEED TO REVIEW TASK PRICING before submitting the task.\n",
    "pre_approval = \"false\" # Options: true or false"
   ]
  },
  {
   "cell_type": "markdown",
   "id": "1822e531-c6ee-4884-a347-de70c66c3ac3",
   "metadata": {
    "tags": []
   },
   "source": [
    "### Create and `POST` tasking request"
   ]
  },
  {
   "cell_type": "code",
   "execution_count": null,
   "id": "d1379707-6c67-4ba1-874d-03f4a110bbe3",
   "metadata": {
    "tags": []
   },
   "outputs": [],
   "source": [
    "# Create tasking request\n",
    "tasking_request = {\n",
    "  \"type\": \"Feature\",\n",
    "  \"geometry\": aoi_geom,\n",
    "  \"properties\": {\n",
    "    \"taskingrequestDescription\": request_description,\n",
    "    \"taskingrequestName\": request_name,\n",
    "    \"windowOpen\": window_open,\n",
    "    \"windowClose\": window_close,\n",
    "    \"collectionTier\": tier,\n",
    "    \"collectConstraints\": {\n",
    "      \"lookDirection\": look_direction,\n",
    "      \"ascDsc\": orbit_state,\n",
    "      \"orbitalPlanes\": orbital_plane,\n",
    "      #\"localTime\": [\n",
    "      #  [\n",
    "      #    0,\n",
    "      #    86400\n",
    "      #  ]\n",
    "      #],\n",
    "      \"offNadirMin\": look_angle_min,\n",
    "      \"offNadirMax\": look_angle_max,\n",
    "      \"collectMode\": img_mode,\n",
    "      \"imageLength\": img_length,\n",
    "      \"imageWidth\": img_width,\n",
    "      # \"grrMin\": 0.5,\n",
    "      # \"grrMax\": 0.7,\n",
    "      # \"azrMin\": 0.5,\n",
    "      # \"azrMax\": 0.5,\n",
    "      # \"numLooks\": num_looks,\n",
    "      # \"polarization\": \"HH\"\n",
    "    },\n",
    "    \"productCategory\": product_cat,\n",
    "    \"preApproval\": pre_approval\n",
    "  }\n",
    "}\n",
    "\n",
    "# POST tasking request\n",
    "r = requests.post(\"https://api.capellaspace.com/task/\", json = tasking_request, headers = headers)\n",
    "#p(r.json())\n",
    "\n",
    "# Define the tasking request ID and name for later use\n",
    "tr_id = r.json()[\"properties\"][\"taskingrequestId\"]\n",
    "tr_name = r.json()[\"properties\"][\"taskingrequestName\"]\n",
    "\n",
    "# Print the ID and tasking request response to ensure task was submitted successfully\n",
    "print(\"Response: \", r.json(), \"\\nRequest ID: \", tr_id)"
   ]
  },
  {
   "cell_type": "markdown",
   "id": "202fafb0-ae91-41f0-9ddd-a4478ef949c9",
   "metadata": {
    "tags": []
   },
   "source": [
    "## Review and Approve SINGLE Tasking Requests\n",
    "If `pre_approval` was set to `false` when submitting the tasking request, the task pricing and parameters need to be reviewed and approved before the task is submitted to the scheduler. Code can easily be adapted for repeat requests. **This step is not required if `pre_approval` was set to `true`.**"
   ]
  },
  {
   "cell_type": "markdown",
   "id": "5600ea1a-b8e1-4dbd-8433-0a961500cf3b",
   "metadata": {
    "tags": []
   },
   "source": [
    "### Review the request (USER INPUT OPTIONAL)"
   ]
  },
  {
   "cell_type": "code",
   "execution_count": null,
   "id": "9c4af2ca-49ae-4626-978c-23411b1ef7e4",
   "metadata": {
    "tags": []
   },
   "outputs": [],
   "source": [
    "# Uncomment the tr_id line below to define a specific tasking ID. \n",
    "# If you just submitted a task and want to review the same task, leave the line commented out.\n",
    "# tr_id = \"WRITE TASK ID HERE\" # USER: Optionally define specific tasking ID here.\n",
    "\n",
    "r = requests.get(\"https://api.capellaspace.com/task/\" + tr_id, headers=headers) # Task search\n",
    "#p(r.json()) # Uncomment to view full response\n",
    "\n",
    "tr_name = r.json()[\"properties\"][\"taskingrequestName\"]\n",
    "tr_status = r.json()[\"properties\"][\"statusHistory\"] \n",
    "tr_cost_est = r.json()[\"properties\"][\"order\"][\"summary\"]\n",
    "\n",
    "print(\"Request ID: \", tr_id, \"\\nTask name: \", tr_name, \"\\nStatus history: \")\n",
    "p(tr_status[0]) # To view only the most recent status, use p(tr_status[0])\n",
    "print(\"Cost per Image Estimate: \", tr_cost_est)"
   ]
  },
  {
   "cell_type": "markdown",
   "id": "2149e751-d4ca-4e19-9612-2386a0035757",
   "metadata": {},
   "source": [
    "### Approve or reject the request (USER INPUT REQUIRED)"
   ]
  },
  {
   "cell_type": "code",
   "execution_count": null,
   "id": "ba4d035c-fdfc-41f9-b505-3848cac12385",
   "metadata": {},
   "outputs": [],
   "source": [
    "# USER: Choose to approve or reject the task.\n",
    "params = {'status': 'approved'} # Options: approved, rejected\n",
    "\n",
    "r = requests.patch(\"https://api.capellaspace.com/task/\" + tr_id + \"/status\", headers=headers, json=params)\n",
    "p(r.json())"
   ]
  },
  {
   "cell_type": "markdown",
   "id": "a1d73d45-aa69-4c6e-b64b-5d9236f541d7",
   "metadata": {
    "tags": []
   },
   "source": [
    "## Check Tasking Request Status (USER INPUT OPTIONAL)\n",
    "Check the status of your tasking request. You can view the entire history of the task or the most recent update. For more information on tasking and collect status, read through [this support page](https://support.capellaspace.com/hc/en-us/articles/360059270751-What-are-the-tasking-and-collect-statuses-)."
   ]
  },
  {
   "cell_type": "code",
   "execution_count": null,
   "id": "d9a4df18-2926-4af2-ac6e-12bce245dbf9",
   "metadata": {},
   "outputs": [],
   "source": [
    "# Uncomment the tr_id line below to define a specific tasking ID. \n",
    "# If you just submitted a task and want to check the status of the same task, leave the line commented out.\n",
    "# tr_id = \"WRITE TASK ID HERE\" # USER: Optionally define specific tasking ID here.\n",
    "\n",
    "r = requests.get(\"https://api.capellaspace.com/task/\" + tr_id, headers=headers)\n",
    "#p(r.json()) # Uncomment to view full response\n",
    "\n",
    "tr_name = r.json()[\"properties\"][\"taskingrequestName\"]\n",
    "tr_status = r.json()[\"properties\"][\"statusHistory\"]\n",
    "\n",
    "print(\"Request ID: \", tr_id, \"\\nTask name: \", tr_name, \"\\nStatus history: \")\n",
    "p(tr_status) # To view only the most recent status, use p(tr_status[0])"
   ]
  },
  {
   "cell_type": "code",
   "execution_count": null,
   "id": "db6e07d0-138f-4220-8323-bfb3ccb61f23",
   "metadata": {},
   "outputs": [],
   "source": []
  }
 ],
 "metadata": {
  "kernelspec": {
   "display_name": "Python 3 (ipykernel)",
   "language": "python",
   "name": "python3"
  },
  "language_info": {
   "codemirror_mode": {
    "name": "ipython",
    "version": 3
   },
   "file_extension": ".py",
   "mimetype": "text/x-python",
   "name": "python",
   "nbconvert_exporter": "python",
   "pygments_lexer": "ipython3",
   "version": "3.10.9"
  }
 },
 "nbformat": 4,
 "nbformat_minor": 5
}

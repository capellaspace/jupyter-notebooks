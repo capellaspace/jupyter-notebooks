{
 "cells": [
  {
   "cell_type": "markdown",
   "metadata": {},
   "source": [
    "# Archive Footprint File Search & Download with Capella API\n",
    "This notebook utilizes the **Archive Export** endpoints in the Capella API to query the available images in the Capella archive on a week-by-week basis and download footprints of the entire archive or specific portions based on footprints file names.  \n",
    "The documentation for these endpoints can be found in the **Catalog** section under the **Archive Export** heading: https://docs.capellaspace.com/api/catalog\n",
    "\n",
    "The cells that require the user to input parameters prior to running are marked with `USER INPUT REQUIRED` in the header. Searching for `USER` in the notebook will also identify where the user must enter inputs.\n",
    "\n",
    "* **Author:** [Sybrand van Beijma](mailto:sybrand.vanbeijma@capellaspace.com)\n",
    "    * **Contributor(s):** [Hayley Pippin](mailto:hayley.pippin@capellaspace.com)\n",
    "* **Last updated:** September 6, 2023\n",
    "* **Required input(s):**\n",
    "    * `credentials.json`: JSON containing the user's Capella Console credentials.\n",
    "* **Output(s):**\n",
    "    * `.gpkg`, `geoparquet`, or zipped `.shp` files of the requested archive footprints."
   ]
  },
  {
   "cell_type": "markdown",
   "metadata": {},
   "source": [
    "## Set Up"
   ]
  },
  {
   "cell_type": "markdown",
   "metadata": {
    "tags": []
   },
   "source": [
    "### `credentials.json`\n",
    "Your username and password must be saved in a `.json` file named `credentials.json` and formatted as follows:\n",
    "```\n",
    "{\"username\": \"yourusername\",\"password\": \"xxxxxxxxx\"}\n",
    "```"
   ]
  },
  {
   "cell_type": "markdown",
   "metadata": {
    "tags": []
   },
   "source": [
    "### Install packages\n",
    "The following cell **only needs to be run once** if packages are not already installed. Uncomment any of the following lines to install the necessary packages."
   ]
  },
  {
   "cell_type": "code",
   "execution_count": null,
   "metadata": {},
   "outputs": [],
   "source": [
    "# !pip install requests\n",
    "# !pip install json\n",
    "# !pip install folium\n",
    "# !pip install datetime\n",
    "# !pip install urllib"
   ]
  },
  {
   "cell_type": "markdown",
   "metadata": {},
   "source": [
    "### Import packages and define helper functions + API endpoints"
   ]
  },
  {
   "cell_type": "code",
   "execution_count": null,
   "metadata": {
    "tags": []
   },
   "outputs": [],
   "source": [
    "import requests\n",
    "import json\n",
    "import pandas as pd\n",
    "import re\n",
    "from datetime import datetime as dt\n",
    "\n",
    "# Function to view printed JSON files easier\n",
    "def p(data):\n",
    "    print(json.dumps(data, indent=2))\n",
    "    \n",
    "# Function to sort file names in alphanumeric order\n",
    "def sorted_alphanumeric(data):\n",
    "    convert = lambda text: int(text) if text.isdigit() else text.lower()\n",
    "    alphanum_key = lambda key: [ convert(c) for c in re.split('([0-9]+)', key) ] \n",
    "    return sorted(data, key=alphanum_key)\n",
    "        \n",
    "# Capella API endpoints\n",
    "URL = 'https://api.capellaspace.com'\n",
    "token = '/token'\n",
    "collections = '/catalog/collections'\n",
    "catsearch = '/catalog/search'\n",
    "orders = '/orders/'"
   ]
  },
  {
   "cell_type": "markdown",
   "metadata": {},
   "source": [
    "### Authentication (INITIAL USER INPUT REQUIRED)\n",
    "This cell needs to be run hourly to re-authenticate with the Capella system."
   ]
  },
  {
   "cell_type": "code",
   "execution_count": null,
   "metadata": {
    "tags": []
   },
   "outputs": [],
   "source": [
    "# Load username and password\n",
    "with open('PATH TO CREDENTIALS FILE HERE') as f: # USER: Input path to credentials.json file.\n",
    "    data = json.load(f)\n",
    "    username = data['username']\n",
    "    password = data['password']\n",
    "\n",
    "# Get a valid token from the auth service\n",
    "r = requests.post(\"https://api.capellaspace.com/token\", \n",
    "                  headers = {'Content-Type': 'application/x-www-form-urlencoded'}, auth=(username,password))\n",
    "access_token = r.json()[\"accessToken\"]\n",
    "# p(access_token)\n",
    "\n",
    "# GET user ID and org ID\n",
    "headers = {'Authorization':'Bearer ' + access_token}\n",
    "r = requests.get(\"https://api.capellaspace.com/user\", headers=headers)\n",
    "#p(r.json())\n",
    "\n",
    "# Print user ID, org ID, and current environment\n",
    "print('User email: ', r.json()['email'], '\\nOrganization: ', r.json()['organization']['name'], '\\nEnvironment: ', r.json()['apiEnvironmentRole'])"
   ]
  },
  {
   "cell_type": "markdown",
   "metadata": {},
   "source": [
    "## Archive File Search"
   ]
  },
  {
   "cell_type": "markdown",
   "metadata": {},
   "source": [
    "### Inspect Available Files"
   ]
  },
  {
   "cell_type": "code",
   "execution_count": null,
   "metadata": {
    "tags": []
   },
   "outputs": [],
   "source": [
    "catalog_available = '/catalog/archive-export/available'\n",
    "\n",
    "r = requests.get(URL + catalog_available, headers=headers)\n",
    "\n",
    "# Print the list of results. OPTIONS:\n",
    "\n",
    "# p(r.json()) # View ALL results\n",
    "\n",
    "# p(r.json()[\"latest\"]) # View LATEST results\n",
    "\n",
    "# sorted_alphanumeric(r.json()[\"weekly\"]) # View WEEKLY results\n",
    "\n",
    "# View EARLIEST and MOST RECENT available week results\n",
    "# print(\"Earliest available week: \", dt.strptime(re.split('/|_|\\.' , sorted_alphanumeric(r.json()[\"weekly\"])[0])[-2], \"%Y%m%d\"), \"\\nLatest available week:\", dt.strptime(re.split('/|_|\\.' , sorted_alphanumeric(r.json()[\"weekly\"])[-2])[-2], \"%Y%m%d\")) \n",
    "\n",
    "p(r.json()[\"full\"]) # View FULL results"
   ]
  },
  {
   "cell_type": "markdown",
   "metadata": {},
   "source": [
    "### Generate List of Files to Download"
   ]
  },
  {
   "cell_type": "code",
   "execution_count": null,
   "metadata": {
    "tags": []
   },
   "outputs": [],
   "source": [
    "# Define list of weekly archive sets\n",
    "weekly = sorted_alphanumeric(r.json()[\"weekly\"])\n",
    "\n",
    "# Get files of particular type \n",
    "weekly_gpkg = [s for s in weekly if \"gpkg\" in s] # Weekly .gpkg files\n",
    "# weekly_shp = [s for s in weekly if \"shp\" in s] # Weekly .shp.zip files\n",
    "\n",
    "# Print last 4 weeks of files in list\n",
    "weekly_gpkg[-4:]\n",
    "# weekly_shp[-4:]"
   ]
  },
  {
   "cell_type": "markdown",
   "metadata": {},
   "source": [
    "## Download Archive Files"
   ]
  },
  {
   "cell_type": "markdown",
   "metadata": {},
   "source": [
    "### Subset Based on Specific Parameters (USER INPUT REQUIRED)"
   ]
  },
  {
   "cell_type": "code",
   "execution_count": null,
   "metadata": {},
   "outputs": [],
   "source": [
    "catalog_presigned = '/catalog/archive-export/presigned'\n",
    "\n",
    "# USER: Define parameters for export. exportType is required.\n",
    "params = {'exportType': 'weekly', # Options: latest, weekly, full\n",
    "          #'exportFormat': 'gpkg', # Options: gpkg, shp.zip, geoparquet. fileNames should be EMPTY or COMMENTED OUT if this option is selected.\n",
    "          'fileNames': weekly_gpkg[-4:] # Specify list of filenames. exportFormat should be EMPTY or COMMENTED OUT if this option is selected.\n",
    "         }\n",
    "\n",
    "r = requests.post(URL + catalog_presigned, headers=headers, json=params)\n",
    "\n",
    "# Print response\n",
    "p(r.json())"
   ]
  },
  {
   "cell_type": "markdown",
   "metadata": {},
   "source": [
    "### Full Archive Files"
   ]
  },
  {
   "cell_type": "code",
   "execution_count": null,
   "metadata": {},
   "outputs": [],
   "source": [
    "catalog_presigned = '/catalog/archive-export/presigned'\n",
    "\n",
    "params = {'exportType': 'full',\n",
    "          'exportFormat': 'gpkg' # Options: gpkg, shp.zip, geoparquet       \n",
    "         }\n",
    "\n",
    "r = requests.post(URL + catalog_presigned, headers=headers, json=params)\n",
    "\n",
    "# Print response\n",
    "p(r.json())"
   ]
  }
 ],
 "metadata": {
  "kernelspec": {
   "display_name": "Python 3 (ipykernel)",
   "language": "python",
   "name": "python3"
  },
  "language_info": {
   "codemirror_mode": {
    "name": "ipython",
    "version": 3
   },
   "file_extension": ".py",
   "mimetype": "text/x-python",
   "name": "python",
   "nbconvert_exporter": "python",
   "pygments_lexer": "ipython3",
   "version": "3.10.9"
  }
 },
 "nbformat": 4,
 "nbformat_minor": 4
}

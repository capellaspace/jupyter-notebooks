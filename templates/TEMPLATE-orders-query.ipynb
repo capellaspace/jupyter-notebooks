{
 "cells": [
  {
   "cell_type": "markdown",
   "id": "bbdd6c64-f33f-404a-9d6e-7320d91ad059",
   "metadata": {
    "tags": []
   },
   "source": [
    "# Query Organization Orders\n",
    "This script allows a user with the organization manager role to pull the orders in an organization and view the products associated with each order in a table.\n",
    "\n",
    "The cells that require the user to input parameters prior to running are marked with `USER INPUT REQUIRED` in the header. Searching for `USER` in the notebook will also identify where the user must enter inputs.\n",
    "\n",
    "* **Author:** Hayley Pippin\n",
    "* **Last updated:** August 9, 2024\n",
    "* **Required input(s):**\n",
    "    * Organization ID for the organization of interest\n",
    "    * `credentials.json`: JSON containing the user's Capella Console credentials. *Note: The user must be an organization manager of the organization they are pulling orders from*.\n",
    "* **Output(s):**\n",
    "    * NA"
   ]
  },
  {
   "cell_type": "markdown",
   "id": "caa67cdd-e245-4462-b1cd-daff983b2bfb",
   "metadata": {
    "tags": []
   },
   "source": [
    "## Setup\n"
   ]
  },
  {
   "cell_type": "markdown",
   "id": "4d06cc36-e610-4111-b8c4-3eea2154f553",
   "metadata": {},
   "source": [
    "### Install packages\n",
    "The following cell **only needs to be run once** if packages are not already installed. Uncomment any of the following lines to install the necessary packages."
   ]
  },
  {
   "cell_type": "code",
   "execution_count": null,
   "id": "b50667f5-138b-4cb2-b90c-9306e768f6d8",
   "metadata": {},
   "outputs": [],
   "source": [
    "#!pip install requests\n",
    "#!pip install json\n",
    "#!pip install pandas"
   ]
  },
  {
   "cell_type": "markdown",
   "id": "3e83f90a-2be8-4195-b384-85def1239405",
   "metadata": {},
   "source": [
    "### Import packages and define helper functions\n"
   ]
  },
  {
   "cell_type": "code",
   "execution_count": null,
   "id": "3ffad76a-0ad0-4d80-93c5-92450cf21cde",
   "metadata": {
    "tags": []
   },
   "outputs": [],
   "source": [
    "import requests\n",
    "import json\n",
    "import pandas as pd\n",
    "\n",
    "# Function to view printed JSON files easier\n",
    "def p(data):\n",
    "        print(json.dumps(data, indent=2))"
   ]
  },
  {
   "cell_type": "markdown",
   "id": "253ae38f-ad35-4ec6-baf6-4bb4c5ecde6e",
   "metadata": {},
   "source": [
    "### Authentication (INITIAL USER INPUT REQUIRED)\n",
    "This cell needs to be run hourly to re-authenticate with the Capella system."
   ]
  },
  {
   "cell_type": "code",
   "execution_count": null,
   "id": "f26cb84a-ef6d-4524-8f12-23f403c83a6f",
   "metadata": {
    "tags": []
   },
   "outputs": [],
   "source": [
    "# Load username and password\n",
    "with open('WRITE PATH TO CREDENTIALS FILE HERE') as f: # USER: Input path to credentials.json file. User MUST be an organization manager of the organization of interest.\n",
    "    data = json.load(f)\n",
    "    username = data['username']\n",
    "    password = data['password']\n",
    "\n",
    "# Get a valid token from the auth service\n",
    "r = requests.post(\"https://api.capellaspace.com/token\", \n",
    "                  headers = {'Content-Type': 'application/x-www-form-urlencoded'}, auth=(username,password))\n",
    "access_token = r.json()[\"accessToken\"]\n",
    "# p(accessToken)\n",
    "\n",
    "# GET user ID and org ID\n",
    "headers = {'Authorization':'Bearer ' + access_token}\n",
    "r = requests.get(\"https://api.capellaspace.com/user\", headers=headers)\n",
    "user_id = r.json()[\"id\"]\n",
    "org_id = r.json()[\"organizationId\"]\n",
    "#p(r.json())\n",
    "\n",
    "# Print user and org ID\n",
    "print('User email: ', r.json()['email'], '\\nOrganization: ', r.json()['organization']['name'], '\\nEnvironment: ', r.json()['apiEnvironmentRole'])"
   ]
  },
  {
   "cell_type": "markdown",
   "id": "f51bd59e-8ba3-42eb-aeb5-068fe8866291",
   "metadata": {
    "tags": []
   },
   "source": [
    "## Inputs (USER INPUT REQUIRED)\n",
    "Define the organization ID to pull the order from."
   ]
  },
  {
   "cell_type": "code",
   "execution_count": null,
   "id": "bcfa7e76-9a99-40f0-8d03-43732e5edb2e",
   "metadata": {
    "tags": []
   },
   "outputs": [],
   "source": [
    "r = requests.get(\"https://api.capellaspace.com/organization\", headers=headers) # Get information about the user's organization. User MUST be an organization manager to use this endpoint.\n",
    "# p(r.json()) # Uncomment to see all details of organization."
   ]
  },
  {
   "cell_type": "code",
   "execution_count": null,
   "id": "376d829e-df45-4682-9317-4ec7f12f9e42",
   "metadata": {
    "tags": []
   },
   "outputs": [],
   "source": [
    "# USER: Define organization ID to pull orders from.\n",
    "# org_id = r.json()[\"id\"] # OPTION 1: Use the ID associated with the organization that the user is currently in.\n",
    "# org_id = '' # OPTION  2: Manually define the org ID the user wants to pull the orders from.\n",
    "\n",
    "params = {\n",
    "    'organizationId': org_id,\n",
    "    # 'customerId': user_id\n",
    "    # 'resellerId': org_id, # Use this option if organization is a reseller to pull all orders from sub-organizations. WARNING: Currently experiencing timeout issues.\n",
    "    'limit': 100 # Set limit for number of returns to avoid timeout.\n",
    "}"
   ]
  },
  {
   "cell_type": "markdown",
   "id": "81552e30-bdd2-4ff1-a3c9-425a38cb9f4d",
   "metadata": {},
   "source": [
    "## Get List of Orders and Associated Collects"
   ]
  },
  {
   "cell_type": "code",
   "execution_count": null,
   "id": "bd9ae727-4ef1-45fe-998c-4c8878469afc",
   "metadata": {
    "tags": []
   },
   "outputs": [],
   "source": [
    "r = requests.get(\"https://api.capellaspace.com/orders/\", headers=headers, params=params)"
   ]
  },
  {
   "cell_type": "code",
   "execution_count": null,
   "id": "05a83f6b-b7ba-4d5e-9cf7-a943591b0cbb",
   "metadata": {
    "tags": []
   },
   "outputs": [],
   "source": [
    "# Format and view dataframe of orderd\n",
    "df = pd.json_normalize(r.json())\n",
    "df = df.explode('items').reset_index(drop = True)\n",
    "df = df.rename(columns = {'items': 'order_items'})\n",
    "df = pd.concat([df, df.order_items.apply(pd.Series)], axis = 1).groupby(['orderId', 'collectId'], group_keys=True).apply(lambda x: x).drop(['userId', 'organizationId', 'orderId', 'contractId', 'expirationDate', 'order_items', 'itemStatus', 'collectionId', 'collectIds', 'collectId', 'size'], axis = 1)\n",
    "df"
   ]
  },
  {
   "cell_type": "code",
   "execution_count": null,
   "id": "36a65071-09fe-40f4-95e9-de4e3a8bd33e",
   "metadata": {},
   "outputs": [],
   "source": [
    "df.to_csv('WRITE EXPORT PATH HERE') # USER: Input path and file name for export here."
   ]
  }
 ],
 "metadata": {
  "kernelspec": {
   "display_name": "Python 3 (ipykernel)",
   "language": "python",
   "name": "python3"
  },
  "language_info": {
   "codemirror_mode": {
    "name": "ipython",
    "version": 3
   },
   "file_extension": ".py",
   "mimetype": "text/x-python",
   "name": "python",
   "nbconvert_exporter": "python",
   "pygments_lexer": "ipython3",
   "version": "3.10.9"
  }
 },
 "nbformat": 4,
 "nbformat_minor": 5
}

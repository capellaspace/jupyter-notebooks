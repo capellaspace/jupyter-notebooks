{
 "cells": [
  {
   "cell_type": "markdown",
   "id": "bbdd6c64-f33f-404a-9d6e-7320d91ad059",
   "metadata": {
    "tags": []
   },
   "source": [
    "# Access Requests (TEMPLATE)\n",
    "This script is a template for obtaining and exporting the access requests for a single-point AOI based on a set of defined constraints. \n",
    "\n",
    "The cells that require the user to input parameters prior to running are marked with `USER INPUT REQUIRED` in the header. Searching for `USER` in the notebook will also identify where the user must enter inputs.\n",
    "\n",
    "* **Author:** Hayley Pippin\n",
    "* **Last updated:** July 18, 2023\n",
    "* **Required input(s):**\n",
    "    * `credentials.json`: JSON containing the user's Capella Console credentials.\n",
    "    * `JSON` or `GEOJSON` single point file\n",
    "* **Output(s):**\n",
    "    * CSV of access requests"
   ]
  },
  {
   "cell_type": "markdown",
   "id": "caa67cdd-e245-4462-b1cd-daff983b2bfb",
   "metadata": {},
   "source": [
    "## Setup\n",
    "Unless otherwise noted, these cells must be run every time you use this script. "
   ]
  },
  {
   "cell_type": "markdown",
   "id": "4d06cc36-e610-4111-b8c4-3eea2154f553",
   "metadata": {},
   "source": [
    "### Install packages\n",
    "The following cell **only needs to be run once** if packages are not already installed. Uncomment any of the following lines to install the necessary packages."
   ]
  },
  {
   "cell_type": "code",
   "execution_count": null,
   "id": "b50667f5-138b-4cb2-b90c-9306e768f6d8",
   "metadata": {},
   "outputs": [],
   "source": [
    "#!pip install requests\n",
    "#!pip install json\n",
    "#!pip install pandas"
   ]
  },
  {
   "cell_type": "markdown",
   "id": "3e83f90a-2be8-4195-b384-85def1239405",
   "metadata": {},
   "source": [
    "### Import packages and define helper functions"
   ]
  },
  {
   "cell_type": "code",
   "execution_count": null,
   "id": "3ffad76a-0ad0-4d80-93c5-92450cf21cde",
   "metadata": {
    "tags": []
   },
   "outputs": [],
   "source": [
    "import requests\n",
    "import json\n",
    "import csv\n",
    "import os\n",
    "import datetime\n",
    "import pandas as pd\n",
    "\n",
    "# Helper function to printformatted JSON using the json module\n",
    "def p(data):\n",
    "    print(json.dumps(data, indent=2))"
   ]
  },
  {
   "cell_type": "markdown",
   "id": "253ae38f-ad35-4ec6-baf6-4bb4c5ecde6e",
   "metadata": {},
   "source": [
    "### Authentication (USER INPUT REQUIRED)\n",
    "This cell needs to be run hourly to re-authenticate with the Capella system."
   ]
  },
  {
   "cell_type": "code",
   "execution_count": null,
   "id": "f26cb84a-ef6d-4524-8f12-23f403c83a6f",
   "metadata": {
    "tags": []
   },
   "outputs": [],
   "source": [
    "# Load username and password\n",
    "with open('WRITE PATH HERE') as f: # USER: Input path to credentials.json file.\n",
    "    data = json.load(f)\n",
    "    username = data['username']\n",
    "    password = data['password']\n",
    "\n",
    "# Get a valid token from the auth service\n",
    "r = requests.post(\"https://api.capellaspace.com/token\", \n",
    "                  headers = {'Content-Type': 'application/x-www-form-urlencoded'}, auth=(username,password))\n",
    "access_token = r.json()[\"accessToken\"]\n",
    "# p(accessToken)\n",
    "\n",
    "# GET user ID and org ID\n",
    "headers = {'Authorization':'Bearer ' + access_token}\n",
    "r = requests.get(\"https://api.capellaspace.com/user\", headers=headers)\n",
    "user_id = r.json()[\"id\"]\n",
    "org_id = r.json()[\"organizationId\"]\n",
    "#p(r.json())\n",
    "\n",
    "# Print user and org ID\n",
    "print('User email: ', r.json()['email'], '\\nOrganization: ', r.json()['organization']['name'], '\\nEnvironment: ', r.json()['apiEnvironmentRole'])"
   ]
  },
  {
   "cell_type": "markdown",
   "id": "f51bd59e-8ba3-42eb-aeb5-068fe8866291",
   "metadata": {
    "tags": []
   },
   "source": [
    "## Determine Access Requests"
   ]
  },
  {
   "cell_type": "markdown",
   "id": "e170fd70-70bc-4764-9dc9-5ad4a4b384f4",
   "metadata": {
    "tags": []
   },
   "source": [
    "### Define access request input parameters (USER INPUT REQUIRED)"
   ]
  },
  {
   "cell_type": "code",
   "execution_count": null,
   "id": "376d829e-df45-4682-9317-4ec7f12f9e42",
   "metadata": {
    "tags": []
   },
   "outputs": [],
   "source": [
    "# Set AOI (must be SINGLE POINT in JSON or GEOJSON format)\n",
    "aoi_path = \"WRITE PATH HERE\" # USER: Input path to AOI.\n",
    "aoi = json.load(open(aoi_path))\n",
    "aoi_geom = aoi['features'][0]['geometry'] # Get the geometry of the AOI\n",
    "\n",
    "# Name and description\n",
    "request_name = '' # USER: Set the name of the request.\n",
    "request_description = '' # USER: Set a description for the request.\n",
    "\n",
    "# Access request window\n",
    "# Default: 30-day window starting at current UTC date/time\n",
    "start_date = datetime.datetime.utcnow()\n",
    "end_date = start_date + datetime.timedelta(days = 30)\n",
    "# USER: To change the window from the default, uncomment and set the start_date and end_date for your desired window in UTC in YYYY,M,D format.\n",
    "# start_date = datetime.date(YYYY,M,D)\n",
    "# end_date = datetime.date(YYYY,M,D)\n",
    "window_open = start_date.strftime(\"%Y-%m-%dT%H:%M:%SZ\") # format start date\n",
    "window_close = end_date.strftime(\"%Y-%m-%dT%H:%M:%SZ\") # format end date\n",
    "\n",
    "# USER: Set constraints below.\n",
    "orbital_plane = [45, 53, 97] # options: 45, 53, 97\n",
    "orbit_state = \"either\" # options: ascending, descending, either\n",
    "look_direction = \"either\" # options: left, right, either\n",
    "look_angle_min = 15 # full: 5, extended: 15, standard: 25\n",
    "look_angle_max = 50 # max: 50\n",
    "img_width = 8000 # in meters\n",
    "img_length = 100000 # in meters"
   ]
  },
  {
   "cell_type": "markdown",
   "id": "1822e531-c6ee-4884-a347-de70c66c3ac3",
   "metadata": {
    "tags": []
   },
   "source": [
    "### Create and `POST` access request"
   ]
  },
  {
   "cell_type": "code",
   "execution_count": null,
   "id": "26b5d92b-a404-4a31-8332-eea59074fefa",
   "metadata": {
    "tags": []
   },
   "outputs": [],
   "source": [
    "# Define access request\n",
    "access_request = {\n",
    "    \"geometry\": aoi_geom,\n",
    "    \"properties\": {\n",
    "      \"userId\": user_id,\n",
    "      \"orgId\": org_id,\n",
    "      \"accessrequestDescription\": request_description,\n",
    "      \"accessrequestName\": request_name,\n",
    "      \"windowOpen\": window_open,\n",
    "      \"windowClose\": window_close,\n",
    "      \"accessConstraints\": {\n",
    "          \"ascDsc\": orbit_state,\n",
    "          \"lookDirection\": look_direction,\n",
    "          \"orbitalPlanes\": orbital_plane,\n",
    "          \"offNadirMin\": look_angle_min,\n",
    "          \"offNadirMax\": look_angle_max,\n",
    "          \"imageWidth\": img_width,\n",
    "          \"imageLength\": img_length\n",
    "          # \"localTime\": [\n",
    "          #   [\n",
    "          #     0,\n",
    "          #     21600\n",
    "          #   ],\n",
    "          #   [\n",
    "          #     64800,\n",
    "          #     86400\n",
    "          #   ]\n",
    "          # ]\n",
    "      }\n",
    "    },\n",
    "    \"type\": \"Feature\"\n",
    "}\n",
    "\n",
    "# POST request\n",
    "headers = {'Authorization':'Bearer ' + access_token}\n",
    "r = requests.post(\"https://api.capellaspace.com/ma/accessrequests/\", json = access_request, headers = headers)\n",
    "p(r.json())"
   ]
  },
  {
   "cell_type": "markdown",
   "id": "2ce2f8a0-b2f4-4e30-adf3-3e5298d9bd3c",
   "metadata": {
    "tags": []
   },
   "source": [
    "### Print access request info and `GET` current status\n",
    "Re-run the cell below until `ar_status` = `completed` and `ar_accessibility` = `accessible` to move on to next section (can take a couple minutes)"
   ]
  },
  {
   "cell_type": "code",
   "execution_count": null,
   "id": "a71e55b4-3188-4e9f-90fd-03ab70a90935",
   "metadata": {
    "tags": []
   },
   "outputs": [],
   "source": [
    "# Extract access request properties of interest \n",
    "ar_id = r.json()[\"properties\"][\"accessrequestId\"]\n",
    "ar_constraints = r.json()[\"properties\"][\"accessConstraints\"]\n",
    "ar_status = r.json()[\"properties\"][\"processingStatus\"]\n",
    "ar_accessibility = r.json()[\"properties\"][\"accessibilityStatus\"]\n",
    "\n",
    "# Print request ID\n",
    "print(\"Request ID: \", ar_id)\n",
    "\n",
    "# GET access request status\n",
    "r = requests.get(\"https://api.capellaspace.com/ma/accessrequests/\" + ar_id, headers = headers)\n",
    "print(\"Processing status: \", ar_status, \"\\nAccessibility status: \", ar_accessibility, \"\\nConstraints: \")\n",
    "p(ar_constraints)"
   ]
  },
  {
   "cell_type": "markdown",
   "id": "202fafb0-ae91-41f0-9ddd-a4478ef949c9",
   "metadata": {
    "tags": []
   },
   "source": [
    "## View and Export Access Requests"
   ]
  },
  {
   "cell_type": "markdown",
   "id": "fbc25452-dc27-4072-b082-51a108257a83",
   "metadata": {},
   "source": [
    "### Full Access Request Table"
   ]
  },
  {
   "cell_type": "markdown",
   "id": "7a32baae-ca0c-40a3-9256-bd20700ce7c1",
   "metadata": {
    "tags": []
   },
   "source": [
    "#### Get and view table of access requests"
   ]
  },
  {
   "cell_type": "code",
   "execution_count": null,
   "id": "21c745aa-c123-40a5-8727-3ab403a4dad4",
   "metadata": {
    "tags": []
   },
   "outputs": [],
   "source": [
    "# GET access requests\n",
    "r = requests.get(\"https://api.capellaspace.com/ma/accesses/\" + ar_id, headers=headers)\n",
    "\n",
    "# View requests as table\n",
    "access_df = pd.json_normalize(r.json())\n",
    "col_interest = ['spacecraftId', 'windowOpen', 'windowClose', 'orbitalPlane', 'accessProperties.ascdsc', \n",
    "                'accessProperties.lookDirection', 'accessProperties.offNadirMin']\n",
    "\n",
    "#access_df # Uncomment to view full table of access requests\n",
    "access_df[col_interest] # Uncomment to view access requests only with columns of interest"
   ]
  },
  {
   "cell_type": "markdown",
   "id": "a9353623-a480-4c1e-b04f-038f027055f7",
   "metadata": {
    "tags": []
   },
   "source": [
    "#### Export access requests as CSV (USER INPUT REQUIRED)"
   ]
  },
  {
   "cell_type": "code",
   "execution_count": null,
   "id": "af27ef92-4195-4aa6-8f3f-4ff98df8a39d",
   "metadata": {
    "tags": []
   },
   "outputs": [],
   "source": [
    "# Inputs\n",
    "csv_path = \"WRITE PATH HERE\" # USER: Input path to directory to store CSV of access requests. \n",
    "csv_filename = \"WRITE NAME HERE\" # USER: Input name for CSV. Example: 'aoi-access-requests.csv'\n",
    "\n",
    "# Clean access request dataframe for export\n",
    "# Set column names\n",
    "access_df.columns = ['Center WGS84', 'Center ECEF', 'Spacecraft ID', 'Access ID', 'Access Request ID', 'Tile ID',\n",
    "                     'Window Open (UTC)', 'Window Close (UTC)', 'Window Open (Local)', 'Window Close (Local)', \n",
    "                     'Orbital Plane', 'Orbit State', 'Look Direction', 'Local Mean Time', 'Az Open', 'Az Close', \n",
    "                     'Elev Min', 'Elev Max', 'Off-Nadir Min', 'Off-Nadir Max']\n",
    "# Filter dataframe to columns, rows of interest\n",
    "access_df_filt = access_df.drop('Tile ID', axis = 1)\n",
    "\n",
    "# Create and export CSV\n",
    "access_df_filt.to_csv(csv_path + csv_filename)"
   ]
  },
  {
   "cell_type": "markdown",
   "id": "05109147-7d2a-4a58-9bc3-0edbc867750a",
   "metadata": {},
   "source": [
    "### Summary Access Request Table"
   ]
  },
  {
   "cell_type": "markdown",
   "id": "f5016e20-4690-4c6f-b155-887ec1455451",
   "metadata": {},
   "source": [
    "#### Generate summary table of access requests\n",
    "Shows the count of all possible image configurations during the specified time period."
   ]
  },
  {
   "cell_type": "code",
   "execution_count": null,
   "id": "551119ea-49ff-4bed-bf62-14b9900ed373",
   "metadata": {},
   "outputs": [],
   "source": [
    "access_df_summary = access_df.groupby(['orbitalPlane',\n",
    "            'accessProperties.ascdsc', \n",
    "            'accessProperties.lookDirection'\n",
    "           ]).agg(passCount=('windowOpen', 'count')\n",
    "                 #  LookDirAzimuth=('LookDirectionAzimuth[degrees]', 'mean'),\n",
    "                 # LookDirAzimuthStd=('LookDirectionAzimuth[degrees]', 'std'),\n",
    "                 #  SatAzimuth = ('SatelliteAzimuth[degrees]', 'mean')\n",
    "                 ).reset_index().rename(columns = {'accessProperties.ascdsc': 'orbitState', 'accessProperties.lookDirection': 'lookDirection'})\n",
    "access_df_summary"
   ]
  },
  {
   "cell_type": "markdown",
   "id": "7ff3a3bb-1c59-45fd-8ed2-9185446de2d4",
   "metadata": {},
   "source": [
    "#### Export summary table as CSV (USER INPUT REQUIRED)"
   ]
  },
  {
   "cell_type": "code",
   "execution_count": null,
   "id": "46b9321e-fe48-44e0-9cb8-2bef77e5a9f8",
   "metadata": {},
   "outputs": [],
   "source": [
    "# Inputs\n",
    "csv_sum_path = \"WRITE PATH HERE\" # USER: Input path to directory to store summary CSV of access requests. \n",
    "csv_sum_filename = \"WRITE NAME HERE\" # USER: Input name for summary CSV. Example: 'aoi-access-requests-summary.csv'\n",
    "\n",
    "# Export\n",
    "access_df_summary.to_csv(csv_sum_path + csv_sum_filename)"
   ]
  }
 ],
 "metadata": {
  "kernelspec": {
   "display_name": "Python 3 (ipykernel)",
   "language": "python",
   "name": "python3"
  },
  "language_info": {
   "codemirror_mode": {
    "name": "ipython",
    "version": 3
   },
   "file_extension": ".py",
   "mimetype": "text/x-python",
   "name": "python",
   "nbconvert_exporter": "python",
   "pygments_lexer": "ipython3",
   "version": "3.10.9"
  }
 },
 "nbformat": 4,
 "nbformat_minor": 5
}
